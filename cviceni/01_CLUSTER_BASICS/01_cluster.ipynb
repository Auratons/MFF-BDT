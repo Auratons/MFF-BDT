{
 "cells": [
  {
   "cell_type": "markdown",
   "metadata": {},
   "source": [
    "##  Přihlaste se na cluster metacentrum \n",
    "```bash\n",
    "ssh username@hador.ics.muni.cz\n",
    "```"
   ]
  },
  {
   "cell_type": "markdown",
   "metadata": {},
   "source": [
    "# Lokální filesystem\n",
    "1. Ve svém uživatelském adresáři si založte podadresář `data`.\n",
    "2. Pro složku `data` povolte read/write/execute pro vlastníka a grupu, pro ostatní nastavte read/execute.\n",
    "3. Projděte adresář `/home/pascepet/fel_bigdata` včetně podadresářů.\n",
    "4. Pro zdatné uživatele Linuxu: vypište jedním příkazem názvy všech souborů v tomto adresáři (včetně podadresářů), které mají příponu `.zip`.\n",
    "5. Z adresáře `/home/pascepet/fel_bigdata/data` si do podadresáře `data` ve svém uživatelském adresáři zkopírujte soubor `iris.csv`.\n",
    "6. Kolik řádků celkem má soubor `iris.csv`? Kolik z těchto řádků obsahuje řetězec `Iris-setosa`?\n",
    "7. Pro soubor `iris.csv` povolte read/write pro vlastníka, read pro grupu a nic pro ostatní.\n",
    "\n",
    "# HDFS\n",
    "8. Ve svém uživatelském adresáři na HDFS si založte podadresář `data`.\n",
    "9. Pro složku `data` povolte read/write/execute pro vlastníka a grupu, pro ostatní nastavte read/execute.\n",
    "10. Prohlédněte si obsah adresáře `/user/pascepet/data` na HDFS. \n",
    "11. Z adresáře `/user/pascepet/data` na HDFS si do vašeho právě založeného podadresáře `data` (na HDFS) zkopírujte soubor `bible-kjv.zip`.\n",
    "12. Z adresáře `data` (na HDFS) stahnete si soubor `bible-kjv.zip` do svého uživatelského adresáře. \n",
    "13. Z adresáře `/home/pascepet/fel_bigdata/data` na lokálním filesystemu si do vašeho právě založeného podadresáře `data` (na HDFS) zkopírujte soubor `iris.csv`.\n",
    "14. Pro soubor `iris.csv` (na HDFS) povolte read/write pro vlastníka, read pro grupu a nic pro ostatní.\n",
    "15. Z adresáře `/user/pascepet/data` na HDFS si do podadresáře 'data' vašeho uživatelského adresáře na lokálním filesystemu zkopírujte soubor `teplota-usa.zip`.\n",
    " "
   ]
  },
  {
   "cell_type": "markdown",
   "metadata": {},
   "source": [
    "## Ochutnávka Hive\n",
    "\n",
    "Spusťte v příkazové řádce konzolu beeline:\n",
    "`beeline -u \"jdbc:hive2://hador-c1.ics.muni.cz:10000/default;principal=hive/hador-c1.ics.muni.cz@ICS.MUNI.CZ\"`\n",
    "\n",
    "Konzola beeline se ukončuje příkazem `!q`.\n",
    "\n",
    "Budeme pracovat s databází `default` a tabulkou `pocasi`. Tabulka obsahuje záznamy o teplotách na meteorologických stanicích v USA za jeden rok. Teplota se měří každou celou hodinu a uvádí se ve stupních Celsia.\n",
    "\n",
    "1. Prohlédněte si strukturu tabulky `pocasi`, vypište si několik záznamů.\n",
    "1. Zjistěte, kolik záznamů obsahuje tabulka a kolik z nich má neprázdnou hodnotu teploty.\n",
    "1. Zjistěte, který stát nebo území USA má nejvyšší průměrnou teplotu v letních měsících (6, 7, 8).\n",
    "1. Pro každý měsíc zjistěte, který stát nebo území USA má **v tomto měsíci** nejvyšší průměrnou teplotu."
   ]
  }
 ],
 "metadata": {
  "kernelspec": {
   "display_name": "Python 3",
   "language": "python",
   "name": "python3"
  },
  "language_info": {
   "codemirror_mode": {
    "name": "ipython",
    "version": 3
   },
   "file_extension": ".py",
   "mimetype": "text/x-python",
   "name": "python",
   "nbconvert_exporter": "python",
   "pygments_lexer": "ipython3",
   "version": "3.7.0"
  }
 },
 "nbformat": 4,
 "nbformat_minor": 2
}
